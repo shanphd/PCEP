{
 "cells": [
  {
   "cell_type": "markdown",
   "id": "5727bbc4",
   "metadata": {},
   "source": [
    "## FLOAT CASTING"
   ]
  },
  {
   "cell_type": "code",
   "execution_count": 4,
   "id": "184f87a7",
   "metadata": {},
   "outputs": [
    {
     "name": "stdout",
     "output_type": "stream",
     "text": [
      "Your Height in Feet is :  5.640243902439025\n"
     ]
    }
   ],
   "source": [
    "Height = float (input('WHAT IS YOUR HEIGHT'))\n",
    "print ('Your Height in Feet is : ', Height / 32.8)"
   ]
  },
  {
   "cell_type": "markdown",
   "id": "fba5caf2",
   "metadata": {},
   "source": [
    "## INT Casting\n"
   ]
  },
  {
   "cell_type": "code",
   "execution_count": 1,
   "id": "93577085",
   "metadata": {},
   "outputs": [
    {
     "name": "stdout",
     "output_type": "stream",
     "text": [
      "in 2100 your Date of brith will be 2078 Live Long Shan\n"
     ]
    },
    {
     "data": {
      "text/plain": [
       "22"
      ]
     },
     "execution_count": 1,
     "metadata": {},
     "output_type": "execute_result"
    }
   ],
   "source": [
    "Birthday = int (input ('your date of birth year ')) \n",
    "print ('in 2100 your Date of brith will be', 2100 - Birthday , 'Live Long Shan')        \n",
    "\n",
    "22"
   ]
  },
  {
   "cell_type": "markdown",
   "id": "c2922a32",
   "metadata": {},
   "source": [
    "## Calucalator Problem\n",
    "'''\n",
    "Salary calculator\n",
    "\n",
    "Ask the user for the number of hours they worked last month and their hourly rate (both numbers should be floats). Use the following prompts:\n",
    "\n",
    "How many hours did you work last month? << add a space at the end of this prompt\n",
    "What is your hourly rate? << add a space at the end of this prompt\n",
    "\n",
    "Then, show the following message with the calculated salary:\n",
    "\n",
    "Last month, you earned {hours * hourly_rate} dollars\n",
    "\n",
    "The salary should be shown as a float number. For example, for input 30 hours and hourly rate 10.5, show:\n",
    "\n",
    "Last month, you earned 315.0 dollars\n",
    "\n",
    "Watch out for typos: you must show the output in this particular format!\n",
    "\n",
    "Note: Use the \"Run tests\" button to check your solution and mark it as complete. Do NOT use the \"Run code\" button as it will most likely show an error if you use an input() statement.\n",
    "'''"
   ]
  },
  {
   "cell_type": "code",
   "execution_count": 7,
   "id": "b1a5e2f1",
   "metadata": {},
   "outputs": [
    {
     "name": "stdout",
     "output_type": "stream",
     "text": [
      "Last month,you earned 325.5 dollars\n"
     ]
    }
   ],
   "source": [
    "hours = float(input('How many Hours did you work last month? ')) \n",
    "hourly_rate = float(input ('What is your hourly rate? '))\n",
    "print ( 'Last month,you earned',(hours * hourly_rate),'dollars')"
   ]
  },
  {
   "cell_type": "markdown",
   "id": "fd0e2ae6",
   "metadata": {},
   "source": [
    "## Module 2 Operators\n"
   ]
  },
  {
   "cell_type": "code",
   "execution_count": 28,
   "id": "43a12336",
   "metadata": {},
   "outputs": [
    {
     "data": {
      "text/plain": [
       "4"
      ]
     },
     "execution_count": 28,
     "metadata": {},
     "output_type": "execute_result"
    }
   ],
   "source": [
    "\"\"\"\n",
    "order \n",
    "**\n",
    "* and  /\n",
    "+ and -\n",
    "\"\"\"\n",
    "\n",
    "\n",
    "3+(2**2)\n",
    "3*2/2\n",
    "2*2\n",
    "7/4\n",
    "7/(2*2)\n",
    "\n",
    "7+(2-5)"
   ]
  },
  {
   "cell_type": "markdown",
   "id": "7bf954b1",
   "metadata": {},
   "source": [
    "## KEYWORD ARG"
   ]
  },
  {
   "cell_type": "code",
   "execution_count": 30,
   "id": "5795c457",
   "metadata": {},
   "outputs": [
    {
     "name": "stdout",
     "output_type": "stream",
     "text": [
      "Hello World.shan\n"
     ]
    }
   ],
   "source": [
    "print ('Hello World', end='.')\n",
    "print ('shan')"
   ]
  },
  {
   "cell_type": "code",
   "execution_count": 43,
   "id": "a1657f64",
   "metadata": {},
   "outputs": [
    {
     "name": "stdout",
     "output_type": "stream",
     "text": [
      "You are the best-"
     ]
    }
   ],
   "source": [
    "\n",
    "print ('You are the best', end='-')b"
   ]
  },
  {
   "cell_type": "code",
   "execution_count": 44,
   "id": "81119c49",
   "metadata": {},
   "outputs": [
    {
     "name": "stdout",
     "output_type": "stream",
     "text": [
      "5.05.05.0\n"
     ]
    }
   ],
   "source": [
    "average_rating = input('Please provide your avg rating: ')\n",
    "print(average_rating * 3)"
   ]
  },
  {
   "cell_type": "code",
   "execution_count": 45,
   "id": "633f1665",
   "metadata": {},
   "outputs": [
    {
     "data": {
      "text/plain": [
       "0"
      ]
     },
     "execution_count": 45,
     "metadata": {},
     "output_type": "execute_result"
    }
   ],
   "source": [
    "1 // 2*3"
   ]
  },
  {
   "cell_type": "code",
   "execution_count": 46,
   "id": "97ae6532",
   "metadata": {},
   "outputs": [
    {
     "data": {
      "text/plain": [
       "1.0"
      ]
     },
     "execution_count": 46,
     "metadata": {},
     "output_type": "execute_result"
    }
   ],
   "source": [
    "1 / 1"
   ]
  }
 ],
 "metadata": {
  "kernelspec": {
   "display_name": "Python 3",
   "language": "python",
   "name": "python3"
  },
  "language_info": {
   "codemirror_mode": {
    "name": "ipython",
    "version": 3
   },
   "file_extension": ".py",
   "mimetype": "text/x-python",
   "name": "python",
   "nbconvert_exporter": "python",
   "pygments_lexer": "ipython3",
   "version": "3.10.4"
  }
 },
 "nbformat": 4,
 "nbformat_minor": 5
}
