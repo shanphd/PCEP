{
 "metadata": {
  "kernelspec": {
   "display_name": "Streamlit Notebook",
   "name": "streamlit"
  }
 },
 "nbformat_minor": 5,
 "nbformat": 4,
 "cells": [
  {
   "cell_type": "markdown",
   "id": "2bec71e6-e7ee-47e3-9b44-ece949ff9fd0",
   "metadata": {
    "name": "cell2",
    "collapsed": false
   },
   "source": "# Module 1 Assignment"
  },
  {
   "cell_type": "code",
   "id": "39da9925-1ba7-4de3-bd24-91dd26613515",
   "metadata": {
    "language": "sql",
    "name": "cell1"
   },
   "outputs": [],
   "source": "select * from menu",
   "execution_count": null
  },
  {
   "cell_type": "code",
   "id": "6bfe7271-370a-4f74-bc0a-02c73fea4329",
   "metadata": {
    "language": "sql",
    "name": "cell3",
    "collapsed": false
   },
   "outputs": [],
   "source": "select ITEM_CATEGORY,ITEM_SUBCATEGORY from MENU where ITEM_CATEGORY = 'Snack' AND ITEM_SUBCATEGORY = 'Warm Option';",
   "execution_count": null
  },
  {
   "cell_type": "code",
   "id": "7d1b4953-680e-4dde-8cb0-c642dba02cc1",
   "metadata": {
    "language": "sql",
    "name": "cell4",
    "collapsed": false
   },
   "outputs": [],
   "source": "select max(SALE_PRICE_USD) from menu where ITEM_SUBCATEGORY = 'Warm Option';",
   "execution_count": null
  }
 ]
}