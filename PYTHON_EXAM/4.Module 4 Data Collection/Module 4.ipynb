{
 "cells": [
  {
   "cell_type": "markdown",
   "id": "59930c44",
   "metadata": {},
   "source": [
    "## MODULE 4 COLLECTIONS\n",
    "\n",
    "1.LIST\n",
    "\n",
    "2.TUPLES\n",
    "\n",
    "3.DICTNORIES\n"
   ]
  },
  {
   "cell_type": "markdown",
   "id": "a18c0e7f",
   "metadata": {},
   "source": [
    "## LIST Examples\n"
   ]
  },
  {
   "cell_type": "code",
   "execution_count": 2,
   "id": "0170e8ca",
   "metadata": {},
   "outputs": [],
   "source": [
    "DTCC_SYSID_LIST = ['rds','itp','sfk','dwc']"
   ]
  },
  {
   "cell_type": "code",
   "execution_count": 3,
   "id": "dde7d3af",
   "metadata": {},
   "outputs": [
    {
     "name": "stdout",
     "output_type": "stream",
     "text": [
      "['rds', 'itp', 'sfk', 'dwc']\n"
     ]
    }
   ],
   "source": [
    "print (DTCC_SYSID_LIST)"
   ]
  },
  {
   "cell_type": "code",
   "execution_count": 4,
   "id": "3ccaa6ec",
   "metadata": {},
   "outputs": [
    {
     "data": {
      "text/plain": [
       "['rds', 'itp', 'sfk', 'dwc']"
      ]
     },
     "execution_count": 4,
     "metadata": {},
     "output_type": "execute_result"
    }
   ],
   "source": [
    "DTCC_SYSID_LIST [:]"
   ]
  },
  {
   "cell_type": "code",
   "execution_count": 5,
   "id": "1ff08390",
   "metadata": {},
   "outputs": [
    {
     "data": {
      "text/plain": [
       "['itp', 'sfk']"
      ]
     },
     "execution_count": 5,
     "metadata": {},
     "output_type": "execute_result"
    }
   ],
   "source": [
    "DTCC_SYSID_LIST [1:3]"
   ]
  },
  {
   "cell_type": "code",
   "execution_count": 6,
   "id": "7694c2e5",
   "metadata": {},
   "outputs": [
    {
     "data": {
      "text/plain": [
       "'dwc'"
      ]
     },
     "execution_count": 6,
     "metadata": {},
     "output_type": "execute_result"
    }
   ],
   "source": [
    "DTCC_SYSID_LIST [-1]"
   ]
  },
  {
   "cell_type": "code",
   "execution_count": 7,
   "id": "cbefce5d",
   "metadata": {},
   "outputs": [
    {
     "data": {
      "text/plain": [
       "['sfk']"
      ]
     },
     "execution_count": 7,
     "metadata": {},
     "output_type": "execute_result"
    }
   ],
   "source": [
    "DTCC_SYSID_LIST [2:3]"
   ]
  },
  {
   "cell_type": "code",
   "execution_count": 11,
   "id": "2cef2de8",
   "metadata": {},
   "outputs": [
    {
     "data": {
      "text/plain": [
       "[]"
      ]
     },
     "execution_count": 11,
     "metadata": {},
     "output_type": "execute_result"
    }
   ],
   "source": [
    "DTCC_SYSID_LIST [10:17]"
   ]
  },
  {
   "cell_type": "markdown",
   "id": "1782a69b",
   "metadata": {},
   "source": [
    "# LIST DEL"
   ]
  },
  {
   "cell_type": "code",
   "execution_count": 16,
   "id": "295175fa",
   "metadata": {},
   "outputs": [
    {
     "name": "stdout",
     "output_type": "stream",
     "text": [
      "['rds', 'itp', 'sfk', 'dwc']\n"
     ]
    }
   ],
   "source": [
    "DTCC_SYSID_LIST = ['rds','itp','sfk','dwc']\n",
    "print (DTCC_SYSID_LIST)"
   ]
  },
  {
   "cell_type": "code",
   "execution_count": 17,
   "id": "af52c287",
   "metadata": {},
   "outputs": [],
   "source": [
    "del DTCC_SYSID_LIST[2]"
   ]
  },
  {
   "cell_type": "code",
   "execution_count": 18,
   "id": "5cc7e3f8",
   "metadata": {},
   "outputs": [
    {
     "name": "stdout",
     "output_type": "stream",
     "text": [
      "['rds', 'itp', 'dwc']\n"
     ]
    }
   ],
   "source": [
    "print (DTCC_SYSID_LIST)"
   ]
  },
  {
   "cell_type": "code",
   "execution_count": 19,
   "id": "c820d14a",
   "metadata": {},
   "outputs": [
    {
     "ename": "NameError",
     "evalue": "name 'DTCC_SYSID_LIST' is not defined",
     "output_type": "error",
     "traceback": [
      "\u001b[0;31m---------------------------------------------------------------------------\u001b[0m",
      "\u001b[0;31mNameError\u001b[0m                                 Traceback (most recent call last)",
      "Input \u001b[0;32mIn [19]\u001b[0m, in \u001b[0;36m<module>\u001b[0;34m\u001b[0m\n\u001b[1;32m      1\u001b[0m \u001b[38;5;28;01mdel\u001b[39;00m DTCC_SYSID_LIST\n\u001b[0;32m----> 2\u001b[0m \u001b[38;5;28mprint\u001b[39m (\u001b[43mDTCC_SYSID_LIST\u001b[49m)\n",
      "\u001b[0;31mNameError\u001b[0m: name 'DTCC_SYSID_LIST' is not defined"
     ]
    }
   ],
   "source": [
    "del DTCC_SYSID_LIST\n",
    "print (DTCC_SYSID_LIST)"
   ]
  },
  {
   "cell_type": "markdown",
   "id": "e5d3fd62",
   "metadata": {},
   "source": [
    "## ADD LIST"
   ]
  },
  {
   "cell_type": "code",
   "execution_count": 20,
   "id": "fc11202c",
   "metadata": {},
   "outputs": [],
   "source": [
    "arsenal = ['Henry','Persie']"
   ]
  },
  {
   "cell_type": "code",
   "execution_count": 21,
   "id": "bb12d228",
   "metadata": {},
   "outputs": [
    {
     "name": "stdout",
     "output_type": "stream",
     "text": [
      "['Henry', 'Persie']\n"
     ]
    }
   ],
   "source": [
    "print (arsenal)"
   ]
  },
  {
   "cell_type": "code",
   "execution_count": 22,
   "id": "42f2a6ef",
   "metadata": {},
   "outputs": [],
   "source": [
    "arsenal.append('wenger')"
   ]
  },
  {
   "cell_type": "code",
   "execution_count": 23,
   "id": "1c8dd672",
   "metadata": {},
   "outputs": [
    {
     "name": "stdout",
     "output_type": "stream",
     "text": [
      "['Henry', 'Persie', 'wenger']\n"
     ]
    }
   ],
   "source": [
    "print (arsenal)"
   ]
  },
  {
   "cell_type": "code",
   "execution_count": 28,
   "id": "4160552c",
   "metadata": {},
   "outputs": [
    {
     "name": "stdout",
     "output_type": "stream",
     "text": [
      "['Henry', 'Persie', 'wenger', 'mike', 'mike', 'mi']\n"
     ]
    }
   ],
   "source": [
    "arsenal.insert(7, 'mi')\n",
    "print (arsenal)"
   ]
  },
  {
   "cell_type": "markdown",
   "id": "b2a4a249",
   "metadata": {},
   "source": [
    "## LIST ITERATIONS"
   ]
  },
  {
   "cell_type": "code",
   "execution_count": 33,
   "id": "26f06b45",
   "metadata": {},
   "outputs": [
    {
     "name": "stdout",
     "output_type": "stream",
     "text": [
      "Total_Exp: 200\n"
     ]
    }
   ],
   "source": [
    "# Shan expendinture Program\n",
    "shan_exp = [1,4,5,190]\n",
    "sum = 0\n",
    "for exp in shan_exp:\n",
    "    sum += exp\n",
    "print ('Total_Exp:', sum)\n"
   ]
  },
  {
   "cell_type": "markdown",
   "id": "1e3a0cf8",
   "metadata": {},
   "source": [
    "## CODING EXCERCISE\n",
    "\n",
    "Helping with the Budget\n",
    "John has a hard time keeping his budget. Write a program to help him analyse his spendings. You are given a list with John's spendings for each month. Go through the list, and count the number of times...\n",
    "\n",
    "a. the spendings were low (< 1000.0)\n",
    "b. the spendings were normal (between 1000.0 and 2500.0 inclusive)\n",
    "c. the spendings were high (> 2500.0)\n",
    "\n",
    "Then, print the following to the output:\n",
    "\n",
    "Numbers of months with low spendings: {}, normal spendings: {}, high spendings: {}.\n",
    "\n",
    "spendings = [1346.0, 987.50, 1734.40, 2567.0, 3271.45, 2500.0, 2130.0, 2510.30, 2987.34, 3120.50, 4069.78, 1000.0]"
   ]
  },
  {
   "cell_type": "code",
   "execution_count": 39,
   "id": "424d1e90",
   "metadata": {},
   "outputs": [
    {
     "name": "stdout",
     "output_type": "stream",
     "text": [
      "Numbers of months with low spendings: 1, normal spendings: 5, high spendings: 6.\n"
     ]
    }
   ],
   "source": [
    "spendings = [1346.0, 987.50, 1734.40, 2567.0, 3271.45, 2500.0, 2130.0, 2510.30, 2987.34, 3120.50, 4069.78, 1000.0]\n",
    " \n",
    "low = 0\n",
    "normal = 0\n",
    "high = 0\n",
    " \n",
    "for month in spendings:\n",
    "    if month < 1000.0:\n",
    "        low += 1\n",
    "    elif month <= 2500.0:\n",
    "        normal += 1\n",
    "    else:\n",
    "        high += 1\n",
    " \n",
    "print('Numbers of months with low spendings: ' + str(low) + ', normal spendings: ' + str(normal) + ', high spendings: ' + str(high) + '.')"
   ]
  },
  {
   "cell_type": "code",
   "execution_count": 42,
   "id": "58a74c69",
   "metadata": {},
   "outputs": [
    {
     "name": "stdout",
     "output_type": "stream",
     "text": [
      "Numbers of months with low spendings: 1, normal spendings: 5, high spendings: 6.\n"
     ]
    }
   ],
   "source": [
    "spendings = [1346.0, 987.50, 1734.40, 2567.0, 3271.45, 2500.0, 2130.0, 2510.30, 2987.34, 3120.50, 4069.78, 1000.0]\n",
    " \n",
    "low = 0\n",
    "normal = 0\n",
    "high = 0\n",
    " \n",
    "for month in spendings:\n",
    "    if month < 1000.0:\n",
    "        low += 1\n",
    "    elif month <= 2500.0:\n",
    "        normal += 1\n",
    "    else:\n",
    "        high += 1\n",
    " \n",
    "print('Numbers of months with low spendings: ' + str(low) + ', normal spendings: ' + str(normal) + ', high spendings: ' + str(high) + '.')"
   ]
  },
  {
   "cell_type": "markdown",
   "id": "b70ae6da",
   "metadata": {},
   "source": [
    "# Element Swap"
   ]
  },
  {
   "cell_type": "code",
   "execution_count": 2,
   "id": "5702f772",
   "metadata": {},
   "outputs": [
    {
     "name": "stdout",
     "output_type": "stream",
     "text": [
      "Before swap : 10 20\n",
      "After Swap : 20 10\n"
     ]
    }
   ],
   "source": [
    "a = input('Enter a number')\n",
    "b = input ('Enter b number')\n",
    "print ('Before swap :', a, b)\n",
    "a, b = b, a\n",
    "print ('After Swap :', a, b)"
   ]
  },
  {
   "cell_type": "markdown",
   "id": "cb196ab8",
   "metadata": {},
   "source": [
    "# Copying list"
   ]
  },
  {
   "cell_type": "code",
   "execution_count": 14,
   "id": "92d96b78",
   "metadata": {},
   "outputs": [
    {
     "name": "stdout",
     "output_type": "stream",
     "text": [
      "shan john\n"
     ]
    }
   ],
   "source": [
    "#String example\n",
    "aa = 'john'\n",
    "b = aa\n",
    "aa = 'shan'\n",
    "print (aa, b)"
   ]
  },
  {
   "cell_type": "code",
   "execution_count": null,
   "id": "d7b5e089",
   "metadata": {},
   "outputs": [
    {
     "name": "stdout",
     "output_type": "stream",
     "text": [
      "['ars', 'che', 'Manu'] ['barc', 'che', 'Manu']\n"
     ]
    }
   ],
   "source": [
    "#List Example\n",
    "name = ['ars','che','Manu']\n",
    "club = name [:]\n",
    "name[0] = 'barc'\n",
    "print (club, name)\n",
    "        "
   ]
  },
  {
   "cell_type": "code",
   "execution_count": 24,
   "id": "787656ef",
   "metadata": {},
   "outputs": [
    {
     "name": "stdout",
     "output_type": "stream",
     "text": [
      "[2, 4, 6, 8, 10, 12, 14, 16, 18, 20, 22, 24, 26, 28, 30, 32, 34, 36, 38, 40, 42, 44, 46, 48, 50, 52, 54, 56, 58, 60, 62, 64, 66, 68, 70, 72, 74, 76, 78, 80, 82, 84, 86, 88, 90, 92, 94, 96, 98, 100]\n"
     ]
    }
   ],
   "source": [
    "# List Comphrseion\n",
    "\n",
    "num = [i for i in range (1, 101) if i % 2 == 0]\n",
    "print (num)"
   ]
  },
  {
   "cell_type": "markdown",
   "id": "e0b183e2",
   "metadata": {},
   "source": [
    "## Nested Lists"
   ]
  },
  {
   "cell_type": "code",
   "execution_count": 28,
   "id": "ac8dc883",
   "metadata": {},
   "outputs": [
    {
     "name": "stdout",
     "output_type": "stream",
     "text": [
      "[['a1', 'a2', 'a3'], ['b1', 'b2', 'b3']]\n"
     ]
    }
   ],
   "source": [
    "tab = [['a1','a2','a3'], ['b1','b2','b3']]\n",
    "print (tab)"
   ]
  },
  {
   "cell_type": "code",
   "execution_count": 31,
   "id": "4f33e713",
   "metadata": {},
   "outputs": [
    {
     "name": "stdout",
     "output_type": "stream",
     "text": [
      "a3\n"
     ]
    }
   ],
   "source": [
    "tab = [['a1','a2','a3'], ['b1','b2','b3']]\n",
    "print (tab[0][2])"
   ]
  },
  {
   "cell_type": "code",
   "execution_count": 42,
   "id": "40593050",
   "metadata": {},
   "outputs": [
    {
     "name": "stdout",
     "output_type": "stream",
     "text": [
      "[[1, 2, 3], [1, 2, 3]] "
     ]
    }
   ],
   "source": [
    "tab = [[i for i in range (1, 4)] for j in range (2)]\n",
    "print (tab, '', end='')\n",
    "\n",
    "\n",
    "\n"
   ]
  }
 ],
 "metadata": {
  "kernelspec": {
   "display_name": "Python 3",
   "language": "python",
   "name": "python3"
  },
  "language_info": {
   "codemirror_mode": {
    "name": "ipython",
    "version": 3
   },
   "file_extension": ".py",
   "mimetype": "text/x-python",
   "name": "python",
   "nbconvert_exporter": "python",
   "pygments_lexer": "ipython3",
   "version": "3.10.4"
  }
 },
 "nbformat": 4,
 "nbformat_minor": 5
}
