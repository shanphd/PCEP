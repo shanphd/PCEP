{
 "cells": [
  {
   "cell_type": "markdown",
   "metadata": {},
   "source": [
    "## MODULE 3 CONTROL FLOW IF/FOR"
   ]
  },
  {
   "cell_type": "code",
   "execution_count": 1,
   "metadata": {},
   "outputs": [
    {
     "name": "stdout",
     "output_type": "stream",
     "text": [
      "23\n"
     ]
    }
   ],
   "source": [
    "## IF STATEMENT \n",
    "\n",
    "user_age = int(input('What is your are'))  \n",
    "print(user_age)\n",
    "\n"
   ]
  },
  {
   "cell_type": "code",
   "execution_count": 14,
   "metadata": {},
   "outputs": [
    {
     "name": "stdout",
     "output_type": "stream",
     "text": [
      "Your age is : 29\n",
      "You are not Eligible\n"
     ]
    }
   ],
   "source": [
    "## Implementing if,else,elif statement\n",
    "\n",
    "user_age = int(input(\"what is your age\"))\n",
    "if user_age > 30 :\n",
    "    print ('your age is :',user_age)\n",
    "    print ('You are Eligible')\n",
    "elif user_age == 30 :\n",
    "    print ('your age is :',user_age)\n",
    "    print ('Contact Your Parents')\n",
    "else :\n",
    "    print ('Your age is :', user_age)\n",
    "    print ('You are not Eligible')"
   ]
  },
  {
   "cell_type": "code",
   "execution_count": null,
   "metadata": {},
   "outputs": [],
   "source": [
    "## IF Elif Else Logical"
   ]
  },
  {
   "cell_type": "code",
   "execution_count": null,
   "metadata": {},
   "outputs": [
    {
     "name": "stdout",
     "output_type": "stream",
     "text": [
      "you are eligible\n"
     ]
    }
   ],
   "source": [
    "'''\n",
    "Condtion Operatios \n",
    "\n",
    "> greate than\n",
    "< lesser than\n",
    ">= greater than or equual\n",
    "<= lesser than or equal\n",
    "== equal to \n",
    "!= not equal to\n",
    "'''\n",
    "\n",
    "# Example \n",
    "\n",
    "user_age = int(input('What is your age? '))\n",
    "if user_age == 25 :\n",
    "    print ('you are is :', user_age, 'Not eligible')\n",
    "elif user_age != 25 :\n",
    "    print ('you are eligible')"
   ]
  },
  {
   "cell_type": "markdown",
   "metadata": {},
   "source": [
    "## JOINING CONTIONS"
   ]
  },
  {
   "cell_type": "code",
   "execution_count": 35,
   "metadata": {},
   "outputs": [
    {
     "name": "stdout",
     "output_type": "stream",
     "text": [
      "you are not eligible\n"
     ]
    }
   ],
   "source": [
    "'''\n",
    "# order \n",
    "\n",
    "1.not\n",
    "2.and\n",
    "3.or\n",
    "''' \n",
    "\n",
    "user_age = int(input('What is your age? '))\n",
    "Country = input ('What is your Country? ')\n",
    "if ((Country == 'INDIA') and user_age == 25 ):\n",
    "    print ('Congratulation you are eligle to apply visa')\n",
    "else :\n",
    "    print ('you are not eligible')"
   ]
  },
  {
   "cell_type": "code",
   "execution_count": 37,
   "metadata": {},
   "outputs": [
    {
     "name": "stdout",
     "output_type": "stream",
     "text": [
      "you are not eligible\n"
     ]
    }
   ],
   "source": [
    "user_age = int(input('What is your age? '))\n",
    "Country = input ('What is your Country? ')\n",
    "if ((Country != 'INDIA') and user_age == 25 ) or \\\n",
    "    (Country == 'US') and (user_age == 24):\n",
    "    print ('Congratulation you are eligle to apply visa')\n",
    "else :\n",
    "    print ('you are not eligible')"
   ]
  },
  {
   "cell_type": "markdown",
   "metadata": {},
   "source": [
    "### NESTED IF STATEMENT"
   ]
  },
  {
   "cell_type": "code",
   "execution_count": 50,
   "metadata": {},
   "outputs": [
    {
     "name": "stdout",
     "output_type": "stream",
     "text": [
      "Learn shan\n"
     ]
    }
   ],
   "source": [
    "# Nested if \n",
    "\n",
    "db = input ('Which db you are Working with ?: snowflake/Greenplum/SQL')\n",
    "if db == 'snowflake':\n",
    "    ml = input ('Do you know ML ? : y/n')\n",
    "    if ml == 'y':\n",
    "        print ('Hooray welcome to ML World')\n",
    "    else:\n",
    "        print ('Learn soon ML Shan') \n",
    "else:\n",
    "    print ('Learn shan')\n",
    "\n",
    "        "
   ]
  },
  {
   "cell_type": "markdown",
   "metadata": {},
   "source": [
    "## PROJECT \n",
    "\n",
    "Refund Policy Helper\n",
    "Let's help an online store with their new refund policy. In this store, you can return an item and get a refund in 2 cases:\n",
    "\n",
    "1. Within 10 days from the day of purchase, given that you have not used the item, or\n",
    "2. No matter when you bought it, when the item broke down through no fault of your own.\n",
    "\n",
    "Write a program that first asks the user three questions and then informs them whether they can get a refund. Ask the following questions:\n",
    "\n",
    "How many days ago have you purchased the item? << add a space at the end of this prompt\n",
    "\n",
    "Have you used the item at all [y/n]?  << add a space at the end of this prompt\n",
    "\n",
    "Has the item broken down on its own [y/n]?  << add a space at the end of this prompt\n",
    "\n",
    "Based on the answers and the refund policy explained above, print either:\n",
    "You can get a refund.\n",
    "or:\n",
    "You cannot get a refund.\n",
    "\n",
    "\n"
   ]
  },
  {
   "cell_type": "code",
   "execution_count": 101,
   "metadata": {},
   "outputs": [
    {
     "name": "stdout",
     "output_type": "stream",
     "text": [
      "You can get refund\n"
     ]
    }
   ],
   "source": [
    "## CODE \n",
    "\n",
    "days_purchased = int(input('How many days ago have you purchased the item? ')) \n",
    "used_item = input ('Have you used the item at all [y/n]? ') \n",
    "broken_down = input ('Has the item broken down on its own [y/n]? ') \n",
    "\n",
    "if days_purchased <= 10 and used_item == 'n':\n",
    "    print ('You can get refund')\n",
    "elif  broken_down == 'y':\n",
    "    print ('You can get a refund.')\n",
    "else:\n",
    "    print('You cannot get a refund.')\n",
    "    \n",
    "\n",
    "\n",
    "\n",
    "        \n",
    "    \n",
    "        \n",
    "        "
   ]
  }
 ],
 "metadata": {
  "kernelspec": {
   "display_name": "Python 3",
   "language": "python",
   "name": "python3"
  },
  "language_info": {
   "codemirror_mode": {
    "name": "ipython",
    "version": 3
   },
   "file_extension": ".py",
   "mimetype": "text/x-python",
   "name": "python",
   "nbconvert_exporter": "python",
   "pygments_lexer": "ipython3",
   "version": "3.10.4"
  }
 },
 "nbformat": 4,
 "nbformat_minor": 2
}
