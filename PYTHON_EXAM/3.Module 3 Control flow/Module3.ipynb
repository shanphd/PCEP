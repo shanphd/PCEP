{
 "cells": [
  {
   "cell_type": "markdown",
   "metadata": {},
   "source": [
    "## MODULE 3 CONTROL FLOW IF/FOR"
   ]
  },
  {
   "cell_type": "code",
   "execution_count": 1,
   "metadata": {},
   "outputs": [
    {
     "name": "stdout",
     "output_type": "stream",
     "text": [
      "23\n"
     ]
    }
   ],
   "source": [
    "## IF STATEMENT \n",
    "\n",
    "user_age = int(input('What is your are'))  \n",
    "print(user_age)\n",
    "\n"
   ]
  },
  {
   "cell_type": "code",
   "execution_count": 14,
   "metadata": {},
   "outputs": [
    {
     "name": "stdout",
     "output_type": "stream",
     "text": [
      "Your age is : 29\n",
      "You are not Eligible\n"
     ]
    }
   ],
   "source": [
    "## Implementing if,else,elif statement\n",
    "\n",
    "user_age = int(input(\"what is your age\"))\n",
    "if user_age > 30 :\n",
    "    print ('your age is :',user_age)\n",
    "    print ('You are Eligible')\n",
    "elif user_age == 30 :\n",
    "    print ('your age is :',user_age)\n",
    "    print ('Contact Your Parents')\n",
    "else :\n",
    "    print ('Your age is :', user_age)\n",
    "    print ('You are not Eligible')"
   ]
  },
  {
   "cell_type": "code",
   "execution_count": null,
   "metadata": {},
   "outputs": [],
   "source": [
    "## IF Elif Else Logical"
   ]
  },
  {
   "cell_type": "code",
   "execution_count": null,
   "metadata": {},
   "outputs": [
    {
     "name": "stdout",
     "output_type": "stream",
     "text": [
      "you are eligible\n"
     ]
    }
   ],
   "source": [
    "'''\n",
    "Condtion Operatios \n",
    "\n",
    "> greate than\n",
    "< lesser than\n",
    ">= greater than or equual\n",
    "<= lesser than or equal\n",
    "== equal to \n",
    "!= not equal to\n",
    "'''\n",
    "\n",
    "# Example \n",
    "\n",
    "user_age = int(input('What is your age? '))\n",
    "if user_age == 25 :\n",
    "    print ('you are is :', user_age, 'Not eligible')\n",
    "elif user_age != 25 :\n",
    "    print ('you are eligible')"
   ]
  },
  {
   "cell_type": "markdown",
   "metadata": {},
   "source": [
    "## JOINING CONTIONS"
   ]
  },
  {
   "cell_type": "code",
   "execution_count": 35,
   "metadata": {},
   "outputs": [
    {
     "name": "stdout",
     "output_type": "stream",
     "text": [
      "you are not eligible\n"
     ]
    }
   ],
   "source": [
    "'''\n",
    "# order \n",
    "\n",
    "1.not\n",
    "2.and\n",
    "3.or\n",
    "''' \n",
    "\n",
    "user_age = int(input('What is your age? '))\n",
    "Country = input ('What is your Country? ')\n",
    "if ((Country == 'INDIA') and user_age == 25 ):\n",
    "    print ('Congratulation you are eligle to apply visa')\n",
    "else :\n",
    "    print ('you are not eligible')"
   ]
  },
  {
   "cell_type": "code",
   "execution_count": 37,
   "metadata": {},
   "outputs": [
    {
     "name": "stdout",
     "output_type": "stream",
     "text": [
      "you are not eligible\n"
     ]
    }
   ],
   "source": [
    "user_age = int(input('What is your age? '))\n",
    "Country = input ('What is your Country? ')\n",
    "if ((Country != 'INDIA') and user_age == 25 ) or \\\n",
    "    (Country == 'US') and (user_age == 24):\n",
    "    print ('Congratulation you are eligle to apply visa')\n",
    "else :\n",
    "    print ('you are not eligible')"
   ]
  },
  {
   "cell_type": "markdown",
   "metadata": {},
   "source": [
    "### NESTED IF STATEMENT"
   ]
  },
  {
   "cell_type": "code",
   "execution_count": 50,
   "metadata": {},
   "outputs": [
    {
     "name": "stdout",
     "output_type": "stream",
     "text": [
      "Learn shan\n"
     ]
    }
   ],
   "source": [
    "# Nested if \n",
    "\n",
    "db = input ('Which db you are Working with ?: snowflake/Greenplum/SQL')\n",
    "if db == 'snowflake':\n",
    "    ml = input ('Do you know ML ? : y/n')\n",
    "    if ml == 'y':\n",
    "        print ('Hooray welcome to ML World')\n",
    "    else:\n",
    "        print ('Learn soon ML Shan') \n",
    "else:\n",
    "    print ('Learn shan')\n",
    "\n",
    "        "
   ]
  },
  {
   "cell_type": "markdown",
   "metadata": {},
   "source": [
    "## PROJECT \n",
    "\n",
    "Refund Policy Helper\n",
    "Let's help an online store with their new refund policy. In this store, you can return an item and get a refund in 2 cases:\n",
    "\n",
    "1. Within 10 days from the day of purchase, given that you have not used the item, or\n",
    "2. No matter when you bought it, when the item broke down through no fault of your own.\n",
    "\n",
    "Write a program that first asks the user three questions and then informs them whether they can get a refund. Ask the following questions:\n",
    "\n",
    "How many days ago have you purchased the item? << add a space at the end of this prompt\n",
    "\n",
    "Have you used the item at all [y/n]?  << add a space at the end of this prompt\n",
    "\n",
    "Has the item broken down on its own [y/n]?  << add a space at the end of this prompt\n",
    "\n",
    "Based on the answers and the refund policy explained above, print either:\n",
    "You can get a refund.\n",
    "or:\n",
    "You cannot get a refund.\n",
    "\n",
    "\n"
   ]
  },
  {
   "cell_type": "code",
   "execution_count": 101,
   "metadata": {},
   "outputs": [
    {
     "name": "stdout",
     "output_type": "stream",
     "text": [
      "You can get refund\n"
     ]
    }
   ],
   "source": [
    "## CODE \n",
    "\n",
    "days_purchased = int(input('How many days ago have you purchased the item? ')) \n",
    "used_item = input ('Have you used the item at all [y/n]? ') \n",
    "broken_down = input ('Has the item broken down on its own [y/n]? ') \n",
    "\n",
    "if days_purchased <= 10 and used_item == 'n':\n",
    "    print ('You can get refund')\n",
    "elif  broken_down == 'y':\n",
    "    print ('You can get a refund.')\n",
    "else:\n",
    "    print('You cannot get a refund.')\n",
    "    \n",
    "\n",
    "\n",
    "\n",
    "        \n",
    "    \n",
    "        \n",
    "        "
   ]
  },
  {
   "cell_type": "markdown",
   "metadata": {},
   "source": [
    "## WHILE LOOPS Syntax"
   ]
  },
  {
   "cell_type": "code",
   "execution_count": 5,
   "metadata": {},
   "outputs": [
    {
     "name": "stdout",
     "output_type": "stream",
     "text": [
      "1\n",
      "2\n",
      "3\n",
      "4\n",
      "5\n",
      "6\n",
      "7\n",
      "8\n",
      "9\n",
      "10\n",
      "Finished\n"
     ]
    }
   ],
   "source": [
    "counter = 1\n",
    "while counter < 11:\n",
    "    print (counter)\n",
    "    counter += 1\n",
    "print ('Finished')"
   ]
  },
  {
   "cell_type": "markdown",
   "metadata": {},
   "source": [
    "## WHILE LOOPS MULTI"
   ]
  },
  {
   "cell_type": "code",
   "execution_count": 13,
   "metadata": {},
   "outputs": [
    {
     "name": "stdout",
     "output_type": "stream",
     "text": [
      "\n",
      "########### SECRET GAME ###########\n",
      "\n",
      "Wrong Retry\n",
      "Wrong Retry\n",
      "Wrong Retry\n",
      "Wrong Retry\n",
      "Wrong Retry\n",
      "You guessed right\n"
     ]
    }
   ],
   "source": [
    "secret = 9\n",
    "print ('''\n",
    "########### SECRET GAME ###########\n",
    "''' )\n",
    "user_input = int(input('Guess the Number from 1 to 10'))\n",
    "while secret != user_input:\n",
    "    print ('Wrong Retry')\n",
    "    user_input = int(input('Guess the Number from 1 to 10'))\n",
    "print ('You guessed right')\n",
    "    \n",
    "\n",
    "\n"
   ]
  },
  {
   "cell_type": "code",
   "execution_count": 21,
   "metadata": {},
   "outputs": [
    {
     "data": {
      "text/plain": [
       "False"
      ]
     },
     "execution_count": 21,
     "metadata": {},
     "output_type": "execute_result"
    }
   ],
   "source": [
    "9 != 9\n",
    "\n"
   ]
  },
  {
   "cell_type": "markdown",
   "metadata": {},
   "source": [
    "## FOR LOOPS"
   ]
  },
  {
   "cell_type": "code",
   "execution_count": 23,
   "metadata": {},
   "outputs": [
    {
     "name": "stdout",
     "output_type": "stream",
     "text": [
      "0\n",
      "1\n",
      "2\n",
      "3\n",
      "4\n",
      "5\n",
      "6\n",
      "7\n",
      "8\n",
      "9\n",
      "Awesome Shan made it for Loops\n"
     ]
    }
   ],
   "source": [
    "# Single range\n",
    "for i in range(10):\n",
    "    print (i)\n",
    "print ('Awesome Shan made it for Loops')"
   ]
  },
  {
   "cell_type": "code",
   "execution_count": 26,
   "metadata": {},
   "outputs": [
    {
     "name": "stdout",
     "output_type": "stream",
     "text": [
      "1\n",
      "2\n",
      "3\n",
      "4\n",
      "5\n",
      "6\n",
      "7\n",
      "8\n",
      "9\n",
      "\n",
      "+========\n",
      "Awesome\n",
      "==========\n",
      "       \n"
     ]
    }
   ],
   "source": [
    "# Multi Range\n",
    "for i in range (1,10):\n",
    "    print (i)\n",
    "print ('''\n",
    "+========\n",
    "Awesome\n",
    "==========\n",
    "       ''')"
   ]
  },
  {
   "cell_type": "code",
   "execution_count": 28,
   "metadata": {},
   "outputs": [
    {
     "name": "stdout",
     "output_type": "stream",
     "text": [
      "1\n",
      "3\n",
      "5\n",
      "7\n",
      "9\n"
     ]
    }
   ],
   "source": [
    "# Interval Range\n",
    "\n",
    "for i in range (1,10,2):\n",
    "    print (i)"
   ]
  },
  {
   "cell_type": "markdown",
   "metadata": {},
   "source": [
    "## Nested Loops"
   ]
  },
  {
   "cell_type": "code",
   "execution_count": 30,
   "metadata": {},
   "outputs": [
    {
     "name": "stdout",
     "output_type": "stream",
     "text": [
      "1 x 1 = 1\n",
      "1 x 2 = 2\n",
      "1 x 3 = 3\n",
      "1 x 4 = 4\n",
      "1 x 5 = 5\n",
      "1 x 6 = 6\n",
      "2 x 1 = 2\n",
      "2 x 2 = 4\n",
      "2 x 3 = 6\n",
      "2 x 4 = 8\n",
      "2 x 5 = 10\n",
      "2 x 6 = 12\n",
      "3 x 1 = 3\n",
      "3 x 2 = 6\n",
      "3 x 3 = 9\n",
      "3 x 4 = 12\n",
      "3 x 5 = 15\n",
      "3 x 6 = 18\n",
      "4 x 1 = 4\n",
      "4 x 2 = 8\n",
      "4 x 3 = 12\n",
      "4 x 4 = 16\n",
      "4 x 5 = 20\n",
      "4 x 6 = 24\n",
      "5 x 1 = 5\n",
      "5 x 2 = 10\n",
      "5 x 3 = 15\n",
      "5 x 4 = 20\n",
      "5 x 5 = 25\n",
      "5 x 6 = 30\n"
     ]
    }
   ],
   "source": [
    "for a in range (1,6):\n",
    "    for b in range(1,7):\n",
    "        print (a, 'x', b, '=' , a * b)"
   ]
  },
  {
   "cell_type": "code",
   "execution_count": 31,
   "metadata": {},
   "outputs": [
    {
     "name": "stdout",
     "output_type": "stream",
     "text": [
      "1.0\n",
      "0.5\n",
      "0.3333333333333333\n",
      "2.0\n",
      "1.0\n",
      "0.6666666666666666\n"
     ]
    }
   ],
   "source": [
    "## Division \n",
    "\n",
    "for a in range (1,3):\n",
    "    for b in range (1,4):\n",
    "        print (a / b)"
   ]
  },
  {
   "cell_type": "markdown",
   "metadata": {},
   "source": [
    "## MODULE 3 PROJECT ####\n",
    "Python Guessing Game\n",
    "Ask the user to guess the year when Python 1.0 was released (the correct answer is 1994) with the following prompt:\n",
    "\n",
    "When was Python 1.0 released? << remember to add a space at the end of this prompt\n",
    "\n",
    "If the user answers 1994, show:\n",
    "\n",
    "Correct!\n",
    "\n",
    "and finish the program. If the user answers with any year that is later than 1994, show a hint and ask again for a new year on a new line:\n",
    "\n",
    "It was earlier than that!\n",
    "When was Python 1.0 released? << remember to add a space\n",
    "\n",
    "If the user answers with any year that is earlier than 1994, show a hint and ask again for a new year on a new line:\n",
    "\n",
    "It was later than that!\n",
    "When was Python 1.0 released? << remember to add a space\n",
    "\n",
    "\n",
    "\n",
    "\n"
   ]
  },
  {
   "cell_type": "code",
   "execution_count": 39,
   "metadata": {},
   "outputs": [
    {
     "name": "stdout",
     "output_type": "stream",
     "text": [
      "Correct!\n"
     ]
    }
   ],
   "source": [
    "while True:\n",
    "    python_invented_year =  int(input('When was Python 1.0 released? '))\n",
    "    if (python_invented_year > 1994):\n",
    "        print ('It was earlier than that! ' )\n",
    "    elif (python_invented_year < 1994):\n",
    "        print ('it was later than that! ')\n",
    "    else:\n",
    "        print ('Correct!')\n",
    "        break\n",
    "\n",
    "    \n",
    "    \n",
    "    \n",
    "    \n",
    "    \n",
    "    "
   ]
  },
  {
   "cell_type": "code",
   "execution_count": 40,
   "metadata": {},
   "outputs": [
    {
     "name": "stdout",
     "output_type": "stream",
     "text": [
      "*\n"
     ]
    }
   ],
   "source": [
    "i = 0\n",
    "while i <= 10:\n",
    "    i += 1\n",
    "    if i % 2 == 0:\n",
    "        break\n",
    "    print('*')"
   ]
  },
  {
   "cell_type": "code",
   "execution_count": 44,
   "metadata": {},
   "outputs": [
    {
     "name": "stdout",
     "output_type": "stream",
     "text": [
      "1 2 3 4 5 "
     ]
    }
   ],
   "source": [
    "i = 1\n",
    "while i < 5:\n",
    "    print(i, end=' ')\n",
    "    i += 1\n",
    "else:\n",
    "    print(i, end=' ')\n"
   ]
  }
 ],
 "metadata": {
  "kernelspec": {
   "display_name": "Python 3",
   "language": "python",
   "name": "python3"
  },
  "language_info": {
   "codemirror_mode": {
    "name": "ipython",
    "version": 3
   },
   "file_extension": ".py",
   "mimetype": "text/x-python",
   "name": "python",
   "nbconvert_exporter": "python",
   "pygments_lexer": "ipython3",
   "version": "3.10.4"
  }
 },
 "nbformat": 4,
 "nbformat_minor": 2
}
