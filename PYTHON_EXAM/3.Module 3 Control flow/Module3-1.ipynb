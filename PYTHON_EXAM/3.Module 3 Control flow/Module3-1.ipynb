{
 "cells": [
  {
   "cell_type": "markdown",
   "metadata": {},
   "source": [
    "# Module 3-1 PCEP"
   ]
  },
  {
   "cell_type": "markdown",
   "metadata": {},
   "source": [
    "# IF Conditions\n",
    "\n"
   ]
  },
  {
   "cell_type": "code",
   "execution_count": 1,
   "metadata": {},
   "outputs": [
    {
     "ename": "ValueError",
     "evalue": "invalid literal for int() with base 10: ''",
     "output_type": "error",
     "traceback": [
      "\u001b[0;31m---------------------------------------------------------------------------\u001b[0m",
      "\u001b[0;31mValueError\u001b[0m                                Traceback (most recent call last)",
      "Input \u001b[0;32mIn [1]\u001b[0m, in \u001b[0;36m<module>\u001b[0;34m\u001b[0m\n\u001b[0;32m----> 1\u001b[0m user_age \u001b[38;5;241m=\u001b[39m \u001b[38;5;28;43mint\u001b[39;49m\u001b[43m(\u001b[49m\u001b[38;5;28;43minput\u001b[39;49m\u001b[43m(\u001b[49m\u001b[38;5;124;43m'\u001b[39;49m\u001b[38;5;124;43mWhat is your age?\u001b[39;49m\u001b[38;5;124;43m'\u001b[39;49m\u001b[43m)\u001b[49m\u001b[43m)\u001b[49m\n\u001b[1;32m      2\u001b[0m \u001b[38;5;28;01mif\u001b[39;00m user_age \u001b[38;5;241m>\u001b[39m \u001b[38;5;241m30\u001b[39m:\n\u001b[1;32m      3\u001b[0m     \u001b[38;5;28mprint\u001b[39m (\u001b[38;5;124m'\u001b[39m\u001b[38;5;124mYour are not qualified\u001b[39m\u001b[38;5;124m'\u001b[39m) \u001b[38;5;66;03m# These are blocks\u001b[39;00m\n",
      "\u001b[0;31mValueError\u001b[0m: invalid literal for int() with base 10: ''"
     ]
    }
   ],
   "source": [
    "user_age = int(input('What is your age?'))\n",
    "if user_age > 30:\n",
    "    print ('Your are not qualified') # These are blocks\n",
    "elif user_age == 30:\n",
    "    print ('you age is equal 30 need more doc')\n",
    "else:\n",
    "    print ('you are qualifies')\n",
    "\n"
   ]
  },
  {
   "cell_type": "markdown",
   "metadata": {},
   "source": [
    "# Logical Condition\n",
    "\n"
   ]
  },
  {
   "cell_type": "code",
   "execution_count": null,
   "metadata": {},
   "outputs": [],
   "source": [
    "# < less than\n",
    "# > greater than\n",
    "# <= Lesser than or equal\n",
    "# >= greate than or equal\n",
    "# != not equalto\n",
    "\n",
    "\n",
    "\n"
   ]
  },
  {
   "cell_type": "code",
   "execution_count": null,
   "metadata": {},
   "outputs": [],
   "source": [
    "passw = input('Do you rember ur password? ')\n",
    "if passw != '--secret':\n",
    "    print ('Wrongpass')\n",
    "else:\n",
    "    print ('righpass')"
   ]
  },
  {
   "cell_type": "markdown",
   "metadata": {},
   "source": [
    "# Nested if\n"
   ]
  },
  {
   "cell_type": "code",
   "execution_count": null,
   "metadata": {},
   "outputs": [
    {
     "name": "stdout",
     "output_type": "stream",
     "text": [
      "sorry not eligible\n"
     ]
    }
   ],
   "source": [
    "user_a = input ('are you travelling: y/n ')\n",
    "if user_a == 'y':\n",
    "    ans_b = input ('are you traveeling ind: y/n')\n",
    "    if ans_b == 'y':\n",
    "        print ('congralation u are elible for ticket')\n",
    "    else:\n",
    "        print ('sorry not eligible')\n",
    "else:\n",
    "    print ('sorry not eligible')\n",
    "        "
   ]
  },
  {
   "cell_type": "markdown",
   "metadata": {},
   "source": [
    "# Refund Policy Helper\n",
    "Let's help an online store with their new refund policy. In this store, you can return an item and get a refund in 2 cases:\n",
    "\n",
    "1. Within 10 days from the day of purchase, given that you have not used the item, or\n",
    "2. No matter when you bought it, when the item broke down through no fault of your own.\n",
    "\n",
    "Write a program that first asks the user three questions and then informs them whether they can get a refund. Ask the following questions:\n",
    "\n",
    "How many days ago have you purchased the item? << add a space at the end of this prompt\n",
    "\n",
    "Have you used the item at all [y/n]?  << add a space at the end of this prompt\n",
    "\n",
    "Has the item broken down on its own [y/n]?  << add a space at the end of this prompt\n",
    "\n",
    "Based on the answers and the refund policy explained above, print either:\n",
    "You can get a refund.\n",
    "or:\n",
    "You cannot get a refund.\n",
    "\n",
    "Note: Use the \"Run tests\" button to check your solution and mark it as complete. Do NOT use the \"Run code\" button as it will most likely show an error if you use an input() statement."
   ]
  },
  {
   "cell_type": "code",
   "execution_count": null,
   "metadata": {},
   "outputs": [
    {
     "name": "stdout",
     "output_type": "stream",
     "text": [
      "you cannot get refund\n"
     ]
    }
   ],
   "source": [
    "user_1 = int(input ('How many days ago have you purchased the item? '))\n",
    "if user_1 < 10:\n",
    "    user_1 = input('Have you used the item at all [y/n]?  ')\n",
    "    if user_1 == 'n':\n",
    "        print ('You can get a refund.')\n",
    "    else:\n",
    "        print('you cannot get a refund.')\n",
    "else:\n",
    "    print ('you cannot get refund')\n",
    "    \n",
    "user_1 = input ()"
   ]
  },
  {
   "cell_type": "code",
   "execution_count": null,
   "metadata": {},
   "outputs": [
    {
     "name": "stdout",
     "output_type": "stream",
     "text": [
      "You cannot get a refund.\n"
     ]
    }
   ],
   "source": [
    "user_1 = int(input ('How many days ago have you purchased the item? '))\n",
    "user_2 = input('Have you used the item at all [y/n]?  ')\n",
    "user_3 = input ('Has the item broken down on its own [y/n]?') \n",
    "\n",
    "if (user_3 == 'y' or (user_1 <= 10 and user_2 == 'n')):\n",
    "    print ('You can get a refund.') \n",
    "else:\n",
    "    print ('You cannot get a refund.')"
   ]
  },
  {
   "cell_type": "markdown",
   "metadata": {},
   "source": [
    "# WHILE LOOP"
   ]
  },
  {
   "cell_type": "code",
   "execution_count": null,
   "metadata": {},
   "outputs": [
    {
     "name": "stdout",
     "output_type": "stream",
     "text": [
      "1\n",
      "2\n",
      "3\n",
      "4\n",
      "5\n",
      "6\n",
      "7\n",
      "8\n",
      "9\n",
      "Finished\n"
     ]
    }
   ],
   "source": [
    "# while ():\n",
    "#  print ('met condition')\n",
    "\n",
    "counter = 1\n",
    "while counter < 10:\n",
    "    print (counter)\n",
    "    counter += 1\n",
    "print ('Finished')"
   ]
  },
  {
   "cell_type": "code",
   "execution_count": null,
   "metadata": {},
   "outputs": [
    {
     "name": "stdout",
     "output_type": "stream",
     "text": [
      "5\n",
      "4\n",
      "3\n",
      "2\n",
      "1\n",
      "Blast off\n"
     ]
    }
   ],
   "source": [
    "# countdown\n",
    "\n",
    "new_year = 5 \n",
    "while new_year > 0:\n",
    "    print (new_year)\n",
    "    new_year = new_year - 1\n",
    "print ('Blast off') "
   ]
  },
  {
   "cell_type": "code",
   "execution_count": null,
   "metadata": {},
   "outputs": [
    {
     "name": "stdout",
     "output_type": "stream",
     "text": [
      "you guesses right\n",
      "game over\n"
     ]
    }
   ],
   "source": [
    "# Guess Correct Number\n",
    "\n",
    "secret = 9\n",
    "\n",
    "while True:\n",
    "    guess = int(input('Guess the Number 1-10: '))\n",
    "    if guess == secret:\n",
    "        print ('you guesses right')\n",
    "        break                                  # loops end here\n",
    "    elif guess <= secret:\n",
    "        print ('entered low')\n",
    "    else :\n",
    "        print ('Enter high')\n",
    "print (f\"game over\") "
   ]
  },
  {
   "cell_type": "markdown",
   "metadata": {},
   "source": [
    "# For Loops"
   ]
  },
  {
   "cell_type": "code",
   "execution_count": null,
   "metadata": {},
   "outputs": [
    {
     "name": "stdout",
     "output_type": "stream",
     "text": [
      "h\n",
      "e\n",
      "l\n",
      "l\n",
      "o\n"
     ]
    }
   ],
   "source": [
    "for letter in 'hello':\n",
    "    print (letter)"
   ]
  },
  {
   "cell_type": "code",
   "execution_count": null,
   "metadata": {},
   "outputs": [
    {
     "name": "stdout",
     "output_type": "stream",
     "text": [
      "1\n",
      "2\n",
      "3\n",
      "4\n",
      "5\n",
      "6\n",
      "7\n",
      "8\n",
      "9\n",
      "Done\n"
     ]
    }
   ],
   "source": [
    "for i in range (1, 10): # note start seq inclusive stop seq will not come eg 10 not come\n",
    "    print (i)\n",
    "print ('Done')"
   ]
  },
  {
   "cell_type": "code",
   "execution_count": null,
   "metadata": {},
   "outputs": [
    {
     "name": "stdout",
     "output_type": "stream",
     "text": [
      "0\n",
      "2\n",
      "4\n",
      "6\n",
      "8\n",
      "10\n",
      "12\n",
      "14\n",
      "16\n",
      "18\n",
      "20\n",
      "22\n",
      "24\n",
      "26\n",
      "28\n",
      "30\n",
      "32\n",
      "34\n",
      "36\n",
      "38\n",
      "40\n",
      "42\n",
      "44\n",
      "46\n",
      "48\n",
      "50\n",
      "52\n",
      "54\n",
      "56\n",
      "58\n",
      "60\n",
      "62\n",
      "64\n",
      "66\n",
      "68\n",
      "70\n",
      "72\n",
      "74\n",
      "76\n",
      "78\n",
      "80\n",
      "82\n",
      "84\n",
      "86\n",
      "88\n",
      "90\n",
      "92\n",
      "94\n",
      "96\n",
      "98\n"
     ]
    }
   ],
   "source": [
    "for i in range (0,100,2):\n",
    "    print (i)"
   ]
  },
  {
   "cell_type": "code",
   "execution_count": null,
   "metadata": {},
   "outputs": [
    {
     "name": "stdout",
     "output_type": "stream",
     "text": [
      "apple\n",
      "banana\n"
     ]
    }
   ],
   "source": [
    "fruit = ['apple','banana']\n",
    "for i in fruit:\n",
    "    print(i)\n",
    "    "
   ]
  },
  {
   "cell_type": "code",
   "execution_count": null,
   "metadata": {},
   "outputs": [
    {
     "name": "stdout",
     "output_type": "stream",
     "text": [
      "1 * 1 = 1\n",
      "1 * 2 = 2\n",
      "1 * 3 = 3\n",
      "1 * 4 = 4\n",
      "2 * 1 = 2\n",
      "2 * 2 = 4\n",
      "2 * 3 = 6\n",
      "2 * 4 = 8\n",
      "3 * 1 = 3\n",
      "3 * 2 = 6\n",
      "3 * 3 = 9\n",
      "3 * 4 = 12\n",
      "4 * 1 = 4\n",
      "4 * 2 = 8\n",
      "4 * 3 = 12\n",
      "4 * 4 = 16\n",
      "end\n"
     ]
    }
   ],
   "source": [
    "for a in range (1, 5):\n",
    "    for b in range (1, 5):\n",
    "        print (a, '*' ,b , \"=\", a * b)\n",
    "print ('end')"
   ]
  },
  {
   "cell_type": "code",
   "execution_count": null,
   "metadata": {},
   "outputs": [
    {
     "ename": "IndentationError",
     "evalue": "expected an indented block after 'while' statement on line 3 (2729515100.py, line 4)",
     "output_type": "error",
     "traceback": [
      "\u001b[0;36m  Input \u001b[0;32mIn [27]\u001b[0;36m\u001b[0m\n\u001b[0;31m    if i < 5:\u001b[0m\n\u001b[0m    ^\u001b[0m\n\u001b[0;31mIndentationError\u001b[0m\u001b[0;31m:\u001b[0m expected an indented block after 'while' statement on line 3\n"
     ]
    }
   ],
   "source": [
    "i = 2\n",
    "while true:\n",
    "if i < 5:\n",
    "     print (i)\n",
    "     i +=1\n",
    "     break\n",
    "else:\n",
    "    print ('else:', i)\n",
    "    \n",
    "    \n",
    "\n",
    "   "
   ]
  },
  {
   "cell_type": "markdown",
   "metadata": {},
   "source": [
    "# Code Work\n",
    "\n",
    "sk the user to guess the year when Python 1.0 was released (the correct answer is 1994) with the following prompt:\n",
    "\n",
    "When was Python 1.0 released? << remember to add a space at the end of this prompt\n",
    "\n",
    "If the user answers 1994, show:\n",
    "\n",
    "Correct!\n",
    "\n",
    "and finish the program. If the user answers with any year that is later than 1994, show a hint and ask again for a new year on a new line:\n",
    "\n",
    "It was earlier than that!\n",
    "When was Python 1.0 released? << remember to add a space\n",
    "\n",
    "If the user answers with any year that is earlier than 1994, show a hint and ask again for a new year on a new line:\n",
    "\n",
    "It was later than that!\n",
    "When was Python 1.0 released? << remember to add a space\n",
    "\n"
   ]
  },
  {
   "cell_type": "code",
   "execution_count": 2,
   "metadata": {},
   "outputs": [
    {
     "name": "stdout",
     "output_type": "stream",
     "text": [
      "number more than 1995 shoul be less\n",
      "End\n",
      "number less than 1995\n",
      "End\n",
      "number less than 1995\n",
      "End\n",
      "Correct!\n"
     ]
    }
   ],
   "source": [
    "py_re = 1994\n",
    "while True:\n",
    "    user_input = int(input('When was Python1.0 released? '))\n",
    "    if user_input == py_re:\n",
    "        print ('Correct!')\n",
    "        break\n",
    "    elif user_input >= py_re:\n",
    "        print ('number more than 1995 shoul be less')\n",
    "    elif user_input <= py_re:\n",
    "        print ('number less than 1995')\n",
    "    print ('End') "
   ]
  },
  {
   "cell_type": "code",
   "execution_count": 3,
   "metadata": {},
   "outputs": [
    {
     "name": "stdout",
     "output_type": "stream",
     "text": [
      "Correct!\n"
     ]
    }
   ],
   "source": [
    "while True:\n",
    "    answer = int(input('When was Python 1.0 released? '))\n",
    "    if answer > 1994:\n",
    "        print('It was earlier than that!')\n",
    "    elif answer < 1994:\n",
    "        print('It was later than that!')\n",
    "    else:\n",
    "        print('Correct!')\n",
    "        break"
   ]
  },
  {
   "cell_type": "code",
   "execution_count": 7,
   "metadata": {},
   "outputs": [
    {
     "name": "stdout",
     "output_type": "stream",
     "text": [
      "*\n"
     ]
    }
   ],
   "source": [
    "i = 0\n",
    "while i <= 10:\n",
    "    i += 1\n",
    "    if i % 2 == 0:\n",
    "        break\n",
    "    print('*')\n",
    "        \n",
    "    "
   ]
  }
 ],
 "metadata": {
  "kernelspec": {
   "display_name": "Python 3",
   "language": "python",
   "name": "python3"
  },
  "language_info": {
   "codemirror_mode": {
    "name": "ipython",
    "version": 3
   },
   "file_extension": ".py",
   "mimetype": "text/x-python",
   "name": "python",
   "nbconvert_exporter": "python",
   "pygments_lexer": "ipython3",
   "version": "3.10.4"
  }
 },
 "nbformat": 4,
 "nbformat_minor": 2
}
