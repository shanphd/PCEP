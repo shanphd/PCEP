{
 "metadata": {
  "kernelspec": {
   "display_name": "Streamlit Notebook",
   "name": "streamlit"
  }
 },
 "nbformat_minor": 5,
 "nbformat": 4,
 "cells": [
  {
   "cell_type": "markdown",
   "id": "3f2d11c5-0a71-45e8-8fc1-2ca792567361",
   "metadata": {
    "name": "PCEP",
    "collapsed": false
   },
   "source": "        This File Contains Demo of PCEP Exams in Snowflake"
  }
 ]
}