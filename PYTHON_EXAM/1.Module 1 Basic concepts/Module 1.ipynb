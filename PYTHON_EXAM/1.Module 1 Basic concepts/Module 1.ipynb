{
 "metadata": {
  "kernelspec": {
   "display_name": "Streamlit Notebook",
   "name": "streamlit"
  }
 },
 "nbformat_minor": 5,
 "nbformat": 4,
 "cells": [
  {
   "cell_type": "markdown",
   "id": "3f2d11c5-0a71-45e8-8fc1-2ca792567361",
   "metadata": {
    "name": "PCEP",
    "collapsed": false
   },
   "source": "# This File Contains Demo of PCEP Exams in Snowflake"
  },
  {
   "cell_type": "markdown",
   "id": "92137239-8b7e-4448-836f-133555d8f752",
   "metadata": {
    "name": "cell1",
    "collapsed": false
   },
   "source": "# Section 2 Module 1 : Basic Concepts"
  },
  {
   "cell_type": "code",
   "id": "66c16d68-87ce-4a8e-9f43-e148cd49dcbb",
   "metadata": {
    "language": "python",
    "name": "cell2",
    "collapsed": false
   },
   "outputs": [],
   "source": "#printing first word \n\nprint ('Shan is the Best Data Scientist and Humble Person');",
   "execution_count": null
  },
  {
   "cell_type": "code",
   "id": "671566b6-9141-4311-9518-aa20cfabbf51",
   "metadata": {
    "language": "python",
    "name": "cell3",
    "codeCollapsed": false
   },
   "outputs": [],
   "source": "# one line chracter ,Two line and Separate line\n\nprint ('Shan is Associate Director')\nprint ('Shan is AD and i\\'m best in the world')\nprint ('Shan new are awesome \\nBest Data Science Director')",
   "execution_count": null
  },
  {
   "cell_type": "markdown",
   "id": "e1e857cd-6f2d-420e-a29c-6a6dd9f0324a",
   "metadata": {
    "name": "cell4",
    "collapsed": false
   },
   "source": "# Variables "
  },
  {
   "cell_type": "code",
   "id": "d64970ff-2189-4afc-8eb4-cafaff3318e8",
   "metadata": {
    "language": "python",
    "name": "cell5"
   },
   "outputs": [],
   "source": "shan = 'Hello Shan I\\'M a Data Scientist I am Awesome'\nprint (shan)",
   "execution_count": null
  },
  {
   "cell_type": "markdown",
   "id": "a46c093e-695e-422a-a47c-c14b4df5e062",
   "metadata": {
    "name": "cell6"
   },
   "source": "# Data Types"
  },
  {
   "cell_type": "code",
   "id": "beb7b313-7ca6-4793-a94b-943667f90c1d",
   "metadata": {
    "language": "python",
    "name": "cell7",
    "collapsed": false
   },
   "outputs": [],
   "source": "#Integer \n\nName = 'shan'\nage = 34 \nDOB = 28.08b\nNature_Fair = True\n\nprint (Name,age)",
   "execution_count": null
  },
  {
   "cell_type": "markdown",
   "id": "b7767333-b271-43f8-ae87-527bad144b19",
   "metadata": {
    "name": "cell8",
    "collapsed": false
   },
   "source": "# Numerical Presentations"
  },
  {
   "cell_type": "code",
   "id": "ac1469d1-5f46-4981-aa9f-a9da2393937b",
   "metadata": {
    "language": "python",
    "name": "cell9"
   },
   "outputs": [],
   "source": "12_0000_333\n\n3e4\n\n",
   "execution_count": null
  },
  {
   "cell_type": "markdown",
   "id": "02adc84d-e643-4225-89c1-cd8eb1b8414e",
   "metadata": {
    "name": "cell10",
    "collapsed": false
   },
   "source": "# Integers"
  },
  {
   "cell_type": "code",
   "id": "d6ff4b48-c524-4251-b4dc-08ada8a3bc4f",
   "metadata": {
    "language": "python",
    "name": "cell11"
   },
   "outputs": [],
   "source": "#Add and Sub \n\n2 + 3 \n\n2 + 5.0\n\n3- 7.0\n\n3-7\n\n# Standard Division\n\n8 / 4 \n\n# integer \n\n8 // 4\n\n13 // 2\n\n# Modulo \n\n14 % 2\n\n14 % 3 \n\n1000 % 3 \n\n90 % 9\n\n90 % 8 \n\n9 % 100 \n\n100 % 9 \n\n8 % 2.0\n\n8.0 % 4\n\n4 % 8.0 \n\n# Power \n\n2 ** 6 \n\n(0.10) ** 364",
   "execution_count": null
  },
  {
   "cell_type": "markdown",
   "id": "b7ae26f3-2d51-437e-a6b0-a3ead0f47631",
   "metadata": {
    "name": "cell14",
    "collapsed": false
   },
   "source": "# Variables Practice"
  },
  {
   "cell_type": "markdown",
   "id": "dd371c7c-87a6-4dbe-af18-8069aa09b6cb",
   "metadata": {
    "name": "cell13",
    "collapsed": false
   },
   "source": "Variables and Operators\nIn a fictional country named Lowtaxland, the income tax is 5%. In another fictional country, Ripoffland, the income tax is 43%. You are given a sample variable named income with the value of 250,000.\n\n1. Create two additional variables: lowtaxland_rate with the value of 0.05 (which is the same as 5%) and ripoffland_rate with the value of 0.43 (which is the same as 43%).\n\n2. Print to the output the following (all output on a single line):\n\nYour income is {income} and you would pay {tax amount in Lowtaxland} income tax in Lowtaxland or {tax amount in Ripoffland} income tax in Ripoffland. You would save {difference between the tax amounts} by paying taxes in Lowtaxland!\n\nYour solution must replace the curly brackets (e.g. {income}) with the actual values (e.g. 250000). The values must be calculated correctly. The tax amount should be calculated as {income * lowtaxland_rate} for Lowtaxland, and {income * ripoffland_rate} for Ripoffland, respectively.\n\n"
  },
  {
   "cell_type": "code",
   "id": "21d57104-71a0-49a1-9e85-62b82b896e0e",
   "metadata": {
    "language": "python",
    "name": "cell12",
    "collapsed": false
   },
   "outputs": [],
   "source": "# Solutions\n\nincome = 250_000\nlowtaxland_rate = 0.05\nripoffland_rate= 0.43 \n\nprint ('Your income is',income, 'and you would pay',income * lowtaxland_rate,'income tax in Lowtaxland or',income * ripoffland_rate,\n       'income tax in Ripoffland. You would save',\n    income * ripoffland_rate - income * lowtaxland_rate,'by paying taxes in Lowtaxland!')",
   "execution_count": null
  },
  {
   "cell_type": "markdown",
   "id": "e3cbb80f-b529-45d1-8e93-03819c8f7138",
   "metadata": {
    "name": "cell15",
    "collapsed": false
   },
   "source": "# Reassign Values "
  },
  {
   "cell_type": "code",
   "id": "c39b0a8c-89fc-4613-829f-65ba998a7c9f",
   "metadata": {
    "language": "python",
    "name": "cell16",
    "collapsed": false,
    "codeCollapsed": false
   },
   "outputs": [],
   "source": "name = 'Shan'\nage = 28\nprint (name , age+5 ) \n\nage = 29\nage += 4 \nprint (name ,age)\n\n\nage = 40 \nage -= 7\nprint (age)\n\nag = '2'\nage = '3'\nprint (ag , 'age')",
   "execution_count": null
  },
  {
   "cell_type": "code",
   "id": "f3b3c5cc-7bfc-4c08-8f4a-cbfd35c3543d",
   "metadata": {
    "language": "python",
    "name": "cell17"
   },
   "outputs": [],
   "source": "x = 11\ny = 4\nx = x % y\nx = x % y\ny = y % x\nprint (x,y)",
   "execution_count": null
  }
 ]
}