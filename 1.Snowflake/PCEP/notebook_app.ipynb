{
 "metadata": {
  "kernelspec": {
   "display_name": "Streamlit Notebook",
   "name": "streamlit"
  }
 },
 "nbformat_minor": 5,
 "nbformat": 4,
 "cells": [
  {
   "cell_type": "code",
   "id": "d7124a78-6a58-45a9-ab6a-f052fa7d6056",
   "metadata": {
    "language": "python",
    "name": "pcep_exam",
    "collapsed": false
   },
   "outputs": [],
   "source": "print (\"shan is best\")",
   "execution_count": null
  }
 ]
}